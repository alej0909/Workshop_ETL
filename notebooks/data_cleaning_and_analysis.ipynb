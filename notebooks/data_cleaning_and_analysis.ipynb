{
 "cells": [
  {
   "cell_type": "markdown",
   "metadata": {},
   "source": [
    "# 🧹 Data Cleaning and Exploratory Analysis\n",
    "\n",
    "In this notebook, we'll dive deep into the candidate data, cleaning it, analyzing patterns, and preparing it for further use.\n",
    "\n",
    "## 🚀 Steps Overview\n",
    "\n",
    "1. **Database Connection** 🔗\n",
    "2. **Exploratory Data Analysis (EDA)** 📊\n",
    "3. **Data Cleaning and Transformation** 🧼\n",
    "\n"
   ]
  },
  {
   "cell_type": "markdown",
   "metadata": {},
   "source": [
    "---\n",
    "\n",
    "## 1. 🔗 Database Connection\n",
    "\n",
    "We start by connecting to the PostgreSQL database to retrieve the raw data for analysis.\n",
    "\n"
   ]
  },
  {
   "cell_type": "code",
   "execution_count": 4,
   "metadata": {},
   "outputs": [],
   "source": [
    "# Una sola celda para todas las importaciones\n",
    "import sys\n",
    "import os\n",
    "from dotenv import load_dotenv\n",
    "\n",
    "# Load environment variables\n",
    "load_dotenv()\n",
    "work_dir = os.getenv('WORK_DIR')\n",
    "\n",
    "# Ensure the working directory is in sys.path\n",
    "sys.path.append(work_dir)\n",
    "\n",
    "from src.model import CandidatesRaw, CandidatesTransformed\n",
    "from sqlalchemy import inspect\n",
    "from sqlalchemy.orm import sessionmaker\n",
    "from sqlalchemy.exc import SQLAlchemyError\n",
    "\n",
    "from src.db_connection import build_engine\n",
    "from src.transform_data import DataTransformer"
   ]
  },
  {
   "cell_type": "code",
   "execution_count": 5,
   "metadata": {},
   "outputs": [
    {
     "name": "stdout",
     "output_type": "stream",
     "text": [
      "Successfully connected to the database postgres!\n"
     ]
    }
   ],
   "source": [
    "# Connect to the database\n",
    "engine = build_engine()\n",
    "Session = sessionmaker(bind=engine)\n",
    "session = Session()"
   ]
  },
  {
   "cell_type": "markdown",
   "metadata": {},
   "source": [
    "---\n",
    "## 2. 📊 Exploratory Data Analysis (EDA)\n",
    "Here, we explore the dataset to understand its structure, identify any inconsistencies, and visualize key patterns."
   ]
  }
 ],
 "metadata": {
  "kernelspec": {
   "display_name": "venv_workshop1",
   "language": "python",
   "name": "python3"
  },
  "language_info": {
   "codemirror_mode": {
    "name": "ipython",
    "version": 3
   },
   "file_extension": ".py",
   "mimetype": "text/x-python",
   "name": "python",
   "nbconvert_exporter": "python",
   "pygments_lexer": "ipython3",
   "version": "3.12.0"
  }
 },
 "nbformat": 4,
 "nbformat_minor": 2
}
